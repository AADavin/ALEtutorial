{
 "cells": [
  {
   "cell_type": "code",
   "execution_count": 44,
   "metadata": {},
   "outputs": [],
   "source": [
    "import pandas as pd\n",
    "import seaborn as sns"
   ]
  },
  {
   "cell_type": "markdown",
   "metadata": {},
   "source": [
    "### Total results"
   ]
  },
  {
   "cell_type": "code",
   "execution_count": 45,
   "metadata": {},
   "outputs": [
    {
     "data": {
      "text/html": [
       "<div>\n",
       "<style scoped>\n",
       "    .dataframe tbody tr th:only-of-type {\n",
       "        vertical-align: middle;\n",
       "    }\n",
       "\n",
       "    .dataframe tbody tr th {\n",
       "        vertical-align: top;\n",
       "    }\n",
       "\n",
       "    .dataframe thead th {\n",
       "        text-align: right;\n",
       "    }\n",
       "</style>\n",
       "<table border=\"1\" class=\"dataframe\">\n",
       "  <thead>\n",
       "    <tr style=\"text-align: right;\">\n",
       "      <th></th>\n",
       "      <th>Family</th>\n",
       "      <th>BranchType</th>\n",
       "      <th>Branch</th>\n",
       "      <th>Duplications</th>\n",
       "      <th>Transfers</th>\n",
       "      <th>Losses</th>\n",
       "      <th>Originations</th>\n",
       "      <th>copies</th>\n",
       "      <th>singletons</th>\n",
       "      <th>extinction_prob</th>\n",
       "      <th>presence</th>\n",
       "      <th>LL</th>\n",
       "    </tr>\n",
       "  </thead>\n",
       "  <tbody>\n",
       "    <tr>\n",
       "      <th>0</th>\n",
       "      <td>SpeciesTree.nwk_78_prunedtree.nwk</td>\n",
       "      <td>S_terminal_branch</td>\n",
       "      <td>n10(0)</td>\n",
       "      <td>0.0</td>\n",
       "      <td>0.0</td>\n",
       "      <td>0.0</td>\n",
       "      <td>0.0</td>\n",
       "      <td>2.0</td>\n",
       "      <td>2.0</td>\n",
       "      <td>0.000006</td>\n",
       "      <td>1.0</td>\n",
       "      <td>-48.6187</td>\n",
       "    </tr>\n",
       "    <tr>\n",
       "      <th>1</th>\n",
       "      <td>SpeciesTree.nwk_78_prunedtree.nwk</td>\n",
       "      <td>S_terminal_branch</td>\n",
       "      <td>n12(1)</td>\n",
       "      <td>0.0</td>\n",
       "      <td>0.0</td>\n",
       "      <td>0.0</td>\n",
       "      <td>0.0</td>\n",
       "      <td>2.0</td>\n",
       "      <td>2.0</td>\n",
       "      <td>0.000006</td>\n",
       "      <td>1.0</td>\n",
       "      <td>-48.5446</td>\n",
       "    </tr>\n",
       "    <tr>\n",
       "      <th>2</th>\n",
       "      <td>SpeciesTree.nwk_78_prunedtree.nwk</td>\n",
       "      <td>S_terminal_branch</td>\n",
       "      <td>n13(2)</td>\n",
       "      <td>0.0</td>\n",
       "      <td>0.0</td>\n",
       "      <td>0.0</td>\n",
       "      <td>0.0</td>\n",
       "      <td>2.0</td>\n",
       "      <td>2.0</td>\n",
       "      <td>0.000006</td>\n",
       "      <td>1.0</td>\n",
       "      <td>-48.4646</td>\n",
       "    </tr>\n",
       "    <tr>\n",
       "      <th>3</th>\n",
       "      <td>SpeciesTree.nwk_78_prunedtree.nwk</td>\n",
       "      <td>S_terminal_branch</td>\n",
       "      <td>n14(3)</td>\n",
       "      <td>0.0</td>\n",
       "      <td>0.0</td>\n",
       "      <td>0.0</td>\n",
       "      <td>0.0</td>\n",
       "      <td>2.0</td>\n",
       "      <td>2.0</td>\n",
       "      <td>0.000006</td>\n",
       "      <td>1.0</td>\n",
       "      <td>-48.4646</td>\n",
       "    </tr>\n",
       "    <tr>\n",
       "      <th>4</th>\n",
       "      <td>SpeciesTree.nwk_78_prunedtree.nwk</td>\n",
       "      <td>S_terminal_branch</td>\n",
       "      <td>n15(4)</td>\n",
       "      <td>0.0</td>\n",
       "      <td>0.0</td>\n",
       "      <td>0.0</td>\n",
       "      <td>0.0</td>\n",
       "      <td>2.0</td>\n",
       "      <td>2.0</td>\n",
       "      <td>0.000006</td>\n",
       "      <td>1.0</td>\n",
       "      <td>-48.6877</td>\n",
       "    </tr>\n",
       "  </tbody>\n",
       "</table>\n",
       "</div>"
      ],
      "text/plain": [
       "                              Family         BranchType  Branch  \\\n",
       "0  SpeciesTree.nwk_78_prunedtree.nwk  S_terminal_branch  n10(0)   \n",
       "1  SpeciesTree.nwk_78_prunedtree.nwk  S_terminal_branch  n12(1)   \n",
       "2  SpeciesTree.nwk_78_prunedtree.nwk  S_terminal_branch  n13(2)   \n",
       "3  SpeciesTree.nwk_78_prunedtree.nwk  S_terminal_branch  n14(3)   \n",
       "4  SpeciesTree.nwk_78_prunedtree.nwk  S_terminal_branch  n15(4)   \n",
       "\n",
       "    Duplications  Transfers  Losses  Originations  copies  singletons  \\\n",
       "0            0.0        0.0     0.0           0.0     2.0         2.0   \n",
       "1            0.0        0.0     0.0           0.0     2.0         2.0   \n",
       "2            0.0        0.0     0.0           0.0     2.0         2.0   \n",
       "3            0.0        0.0     0.0           0.0     2.0         2.0   \n",
       "4            0.0        0.0     0.0           0.0     2.0         2.0   \n",
       "\n",
       "   extinction_prob  presence       LL  \n",
       "0         0.000006       1.0 -48.6187  \n",
       "1         0.000006       1.0 -48.5446  \n",
       "2         0.000006       1.0 -48.4646  \n",
       "3         0.000006       1.0 -48.4646  \n",
       "4         0.000006       1.0 -48.6877  "
      ]
     },
     "execution_count": 45,
     "metadata": {},
     "output_type": "execute_result"
    }
   ],
   "source": [
    "df = pd.read_csv(\"TableEvents.tsv\", sep = \"\\t\")\n",
    "df.head()"
   ]
  },
  {
   "cell_type": "markdown",
   "metadata": {},
   "source": [
    "### Results per branch"
   ]
  },
  {
   "cell_type": "code",
   "execution_count": 46,
   "metadata": {},
   "outputs": [
    {
     "data": {
      "text/html": [
       "<div>\n",
       "<style scoped>\n",
       "    .dataframe tbody tr th:only-of-type {\n",
       "        vertical-align: middle;\n",
       "    }\n",
       "\n",
       "    .dataframe tbody tr th {\n",
       "        vertical-align: top;\n",
       "    }\n",
       "\n",
       "    .dataframe thead th {\n",
       "        text-align: right;\n",
       "    }\n",
       "</style>\n",
       "<table border=\"1\" class=\"dataframe\">\n",
       "  <thead>\n",
       "    <tr style=\"text-align: right;\">\n",
       "      <th></th>\n",
       "      <th>Branch</th>\n",
       "      <th>Duplications</th>\n",
       "      <th>Transfers</th>\n",
       "      <th>Losses</th>\n",
       "      <th>Originations</th>\n",
       "      <th>copies</th>\n",
       "      <th>singletons</th>\n",
       "      <th>extinction_prob</th>\n",
       "      <th>presence</th>\n",
       "      <th>LL</th>\n",
       "    </tr>\n",
       "  </thead>\n",
       "  <tbody>\n",
       "    <tr>\n",
       "      <th>0</th>\n",
       "      <td>10</td>\n",
       "      <td>0.62</td>\n",
       "      <td>0.14</td>\n",
       "      <td>0.07</td>\n",
       "      <td>0.00</td>\n",
       "      <td>185.70</td>\n",
       "      <td>184.38</td>\n",
       "      <td>1.434428</td>\n",
       "      <td>96.00</td>\n",
       "      <td>-4853.80210</td>\n",
       "    </tr>\n",
       "    <tr>\n",
       "      <th>1</th>\n",
       "      <td>11</td>\n",
       "      <td>24.71</td>\n",
       "      <td>12.88</td>\n",
       "      <td>1.99</td>\n",
       "      <td>0.45</td>\n",
       "      <td>211.94</td>\n",
       "      <td>154.31</td>\n",
       "      <td>1.434429</td>\n",
       "      <td>97.98</td>\n",
       "      <td>-4326.76760</td>\n",
       "    </tr>\n",
       "    <tr>\n",
       "      <th>2</th>\n",
       "      <td>12</td>\n",
       "      <td>85.83</td>\n",
       "      <td>22.82</td>\n",
       "      <td>1.15</td>\n",
       "      <td>4.51</td>\n",
       "      <td>213.44</td>\n",
       "      <td>49.95</td>\n",
       "      <td>1.434430</td>\n",
       "      <td>96.98</td>\n",
       "      <td>-3432.10555</td>\n",
       "    </tr>\n",
       "    <tr>\n",
       "      <th>3</th>\n",
       "      <td>13</td>\n",
       "      <td>1.64</td>\n",
       "      <td>4.23</td>\n",
       "      <td>3.73</td>\n",
       "      <td>0.70</td>\n",
       "      <td>184.04</td>\n",
       "      <td>177.53</td>\n",
       "      <td>1.434429</td>\n",
       "      <td>96.89</td>\n",
       "      <td>-4601.62320</td>\n",
       "    </tr>\n",
       "    <tr>\n",
       "      <th>4</th>\n",
       "      <td>14</td>\n",
       "      <td>0.00</td>\n",
       "      <td>0.13</td>\n",
       "      <td>0.03</td>\n",
       "      <td>0.00</td>\n",
       "      <td>185.01</td>\n",
       "      <td>184.88</td>\n",
       "      <td>1.442583</td>\n",
       "      <td>96.00</td>\n",
       "      <td>-4756.30210</td>\n",
       "    </tr>\n",
       "  </tbody>\n",
       "</table>\n",
       "</div>"
      ],
      "text/plain": [
       "  Branch   Duplications  Transfers  Losses  Originations  copies  singletons  \\\n",
       "0     10           0.62       0.14    0.07          0.00  185.70      184.38   \n",
       "1     11          24.71      12.88    1.99          0.45  211.94      154.31   \n",
       "2     12          85.83      22.82    1.15          4.51  213.44       49.95   \n",
       "3     13           1.64       4.23    3.73          0.70  184.04      177.53   \n",
       "4     14           0.00       0.13    0.03          0.00  185.01      184.88   \n",
       "\n",
       "   extinction_prob  presence          LL  \n",
       "0         1.434428     96.00 -4853.80210  \n",
       "1         1.434429     97.98 -4326.76760  \n",
       "2         1.434430     96.98 -3432.10555  \n",
       "3         1.434429     96.89 -4601.62320  \n",
       "4         1.442583     96.00 -4756.30210  "
      ]
     },
     "execution_count": 46,
     "metadata": {},
     "output_type": "execute_result"
    }
   ],
   "source": [
    "dfb = df.groupby(\"Branch\", as_index=False).sum()\n",
    "dfb.head()"
   ]
  },
  {
   "cell_type": "markdown",
   "metadata": {},
   "source": [
    "### Inferring verticality (branch-wise metric)"
   ]
  },
  {
   "cell_type": "code",
   "execution_count": 47,
   "metadata": {},
   "outputs": [],
   "source": [
    "dfb[\"Verticality\"] = dfb[\"singletons\"] / (dfb[\"singletons\"] + dfb[\"Originations\"] + dfb[\"Transfers\"])"
   ]
  },
  {
   "cell_type": "code",
   "execution_count": 48,
   "metadata": {},
   "outputs": [
    {
     "data": {
      "text/html": [
       "<div>\n",
       "<style scoped>\n",
       "    .dataframe tbody tr th:only-of-type {\n",
       "        vertical-align: middle;\n",
       "    }\n",
       "\n",
       "    .dataframe tbody tr th {\n",
       "        vertical-align: top;\n",
       "    }\n",
       "\n",
       "    .dataframe thead th {\n",
       "        text-align: right;\n",
       "    }\n",
       "</style>\n",
       "<table border=\"1\" class=\"dataframe\">\n",
       "  <thead>\n",
       "    <tr style=\"text-align: right;\">\n",
       "      <th></th>\n",
       "      <th>Branch</th>\n",
       "      <th>Duplications</th>\n",
       "      <th>Transfers</th>\n",
       "      <th>Losses</th>\n",
       "      <th>Originations</th>\n",
       "      <th>copies</th>\n",
       "      <th>singletons</th>\n",
       "      <th>extinction_prob</th>\n",
       "      <th>presence</th>\n",
       "      <th>LL</th>\n",
       "      <th>Verticality</th>\n",
       "    </tr>\n",
       "  </thead>\n",
       "  <tbody>\n",
       "    <tr>\n",
       "      <th>0</th>\n",
       "      <td>10</td>\n",
       "      <td>0.62</td>\n",
       "      <td>0.14</td>\n",
       "      <td>0.07</td>\n",
       "      <td>0.00</td>\n",
       "      <td>185.70</td>\n",
       "      <td>184.38</td>\n",
       "      <td>1.434428</td>\n",
       "      <td>96.00</td>\n",
       "      <td>-4853.80210</td>\n",
       "      <td>0.999241</td>\n",
       "    </tr>\n",
       "    <tr>\n",
       "      <th>1</th>\n",
       "      <td>11</td>\n",
       "      <td>24.71</td>\n",
       "      <td>12.88</td>\n",
       "      <td>1.99</td>\n",
       "      <td>0.45</td>\n",
       "      <td>211.94</td>\n",
       "      <td>154.31</td>\n",
       "      <td>1.434429</td>\n",
       "      <td>97.98</td>\n",
       "      <td>-4326.76760</td>\n",
       "      <td>0.920484</td>\n",
       "    </tr>\n",
       "    <tr>\n",
       "      <th>2</th>\n",
       "      <td>12</td>\n",
       "      <td>85.83</td>\n",
       "      <td>22.82</td>\n",
       "      <td>1.15</td>\n",
       "      <td>4.51</td>\n",
       "      <td>213.44</td>\n",
       "      <td>49.95</td>\n",
       "      <td>1.434430</td>\n",
       "      <td>96.98</td>\n",
       "      <td>-3432.10555</td>\n",
       "      <td>0.646351</td>\n",
       "    </tr>\n",
       "    <tr>\n",
       "      <th>3</th>\n",
       "      <td>13</td>\n",
       "      <td>1.64</td>\n",
       "      <td>4.23</td>\n",
       "      <td>3.73</td>\n",
       "      <td>0.70</td>\n",
       "      <td>184.04</td>\n",
       "      <td>177.53</td>\n",
       "      <td>1.434429</td>\n",
       "      <td>96.89</td>\n",
       "      <td>-4601.62320</td>\n",
       "      <td>0.972980</td>\n",
       "    </tr>\n",
       "    <tr>\n",
       "      <th>4</th>\n",
       "      <td>14</td>\n",
       "      <td>0.00</td>\n",
       "      <td>0.13</td>\n",
       "      <td>0.03</td>\n",
       "      <td>0.00</td>\n",
       "      <td>185.01</td>\n",
       "      <td>184.88</td>\n",
       "      <td>1.442583</td>\n",
       "      <td>96.00</td>\n",
       "      <td>-4756.30210</td>\n",
       "      <td>0.999297</td>\n",
       "    </tr>\n",
       "  </tbody>\n",
       "</table>\n",
       "</div>"
      ],
      "text/plain": [
       "  Branch   Duplications  Transfers  Losses  Originations  copies  singletons  \\\n",
       "0     10           0.62       0.14    0.07          0.00  185.70      184.38   \n",
       "1     11          24.71      12.88    1.99          0.45  211.94      154.31   \n",
       "2     12          85.83      22.82    1.15          4.51  213.44       49.95   \n",
       "3     13           1.64       4.23    3.73          0.70  184.04      177.53   \n",
       "4     14           0.00       0.13    0.03          0.00  185.01      184.88   \n",
       "\n",
       "   extinction_prob  presence          LL  Verticality  \n",
       "0         1.434428     96.00 -4853.80210     0.999241  \n",
       "1         1.434429     97.98 -4326.76760     0.920484  \n",
       "2         1.434430     96.98 -3432.10555     0.646351  \n",
       "3         1.434429     96.89 -4601.62320     0.972980  \n",
       "4         1.442583     96.00 -4756.30210     0.999297  "
      ]
     },
     "execution_count": 48,
     "metadata": {},
     "output_type": "execute_result"
    }
   ],
   "source": [
    "dfb.head()"
   ]
  },
  {
   "cell_type": "code",
   "execution_count": 49,
   "metadata": {},
   "outputs": [
    {
     "data": {
      "text/plain": [
       "<matplotlib.axes._subplots.AxesSubplot at 0x7ff0b9edcc88>"
      ]
     },
     "execution_count": 49,
     "metadata": {},
     "output_type": "execute_result"
    },
    {
     "data": {
      "image/png": "[encoded data removed]",
      "text/plain": [
       "<Figure size 432x288 with 1 Axes>"
      ]
     },
     "metadata": {
      "needs_background": "light"
     },
     "output_type": "display_data"
    }
   ],
   "source": [
    "sns.boxplot(y = dfb[\"Verticality\"])"
   ]
  },
  {
   "cell_type": "markdown",
   "metadata": {},
   "source": [
    "### Inferring transfer propensity (family-wise metric)"
   ]
  },
  {
   "cell_type": "code",
   "execution_count": 50,
   "metadata": {},
   "outputs": [],
   "source": [
    "dff = df.groupby(\"Family\").sum()"
   ]
  },
  {
   "cell_type": "code",
   "execution_count": 51,
   "metadata": {},
   "outputs": [],
   "source": [
    "dff[\"TransferPropensity\"] = dff[\"Transfers\"] / (dff[\"singletons\"] + dff[\"Transfers\"])"
   ]
  },
  {
   "cell_type": "code",
   "execution_count": 52,
   "metadata": {},
   "outputs": [
    {
     "data": {
      "text/plain": [
       "<matplotlib.axes._subplots.AxesSubplot at 0x7ff0a9f27208>"
      ]
     },
     "execution_count": 52,
     "metadata": {},
     "output_type": "execute_result"
    },
    {
     "data": {
      "image/png": "[encoded data removed]",
      "text/plain": [
       "<Figure size 432x288 with 1 Axes>"
      ]
     },
     "metadata": {
      "needs_background": "light"
     },
     "output_type": "display_data"
    }
   ],
   "source": [
    "sns.boxplot(y = dff[\"TransferPropensity\"])"
   ]
  }
 ],
 "metadata": {
  "kernelspec": {
   "display_name": "Python 3",
   "language": "python",
   "name": "python3"
  },
  "language_info": {
   "codemirror_mode": {
    "name": "ipython",
    "version": 3
   },
   "file_extension": ".py",
   "mimetype": "text/x-python",
   "name": "python",
   "nbconvert_exporter": "python",
   "pygments_lexer": "ipython3",
   "version": "3.7.3"
  }
 },
 "nbformat": 4,
 "nbformat_minor": 2
}
